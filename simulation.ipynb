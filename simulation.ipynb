{
 "cells": [
  {
   "cell_type": "code",
   "id": "initial_id",
   "metadata": {
    "collapsed": true,
    "ExecuteTime": {
     "end_time": "2024-12-30T10:10:09.869524Z",
     "start_time": "2024-12-30T10:10:09.723339Z"
    }
   },
   "source": "import numpy as np",
   "outputs": [],
   "execution_count": 1
  },
  {
   "metadata": {
    "ExecuteTime": {
     "end_time": "2024-12-30T10:10:10.028252Z",
     "start_time": "2024-12-30T10:10:09.881857Z"
    }
   },
   "cell_type": "code",
   "source": "generation_1 = np.random.normal(loc=100, scale=15, size=100000)",
   "id": "2ebb2d81d7184851",
   "outputs": [],
   "execution_count": 2
  },
  {
   "metadata": {
    "ExecuteTime": {
     "end_time": "2024-12-30T13:41:44.747904Z",
     "start_time": "2024-12-30T13:41:44.741104Z"
    }
   },
   "cell_type": "code",
   "source": [
    "def get_married(previous_generation: np.array, correlation_coefficient: float = 0.9) -> np.array:\n",
    "    \"\"\"\n",
    "    pairs up values in the previous generation so that their IQs have the corresponding correlation coefficient.\n",
    "    \"\"\"\n",
    "    n_pairs = previous_generation.shape[0] // 2\n",
    "\n",
    "    men = previous_generation[:n_pairs]\n",
    "    women = previous_generation[n_pairs:]\n",
    "\n",
    "    standardized_men = (men - 100) / 15\n",
    "    standardized_women = (women - 100) / 15\n",
    "    noise = np.random.normal(loc=0, scale=1, size=n_pairs)\n",
    "    correlated_woman_values = (correlation_coefficient * standardized_men) + (np.sqrt(1 - correlation_coefficient ** 2) * noise)\n",
    "\n",
    "    pairs = np.array((standardized_women.shape[0], 2))\n",
    "    standardized_women_to_original_mapping = {standardized_woman : original_woman for standardized_woman, original_woman in zip(standardized_women, women)}\n",
    "    for idx, val in enumerate(list(correlated_woman_values)):\n",
    "        woman_idx = np.abs(standardized_women - val).argmin()\n",
    "        standardized_woman_value = standardized_women[int(woman_idx)]\n",
    "        woman_value = standardized_women_to_original_mapping[standardized_woman_value]\n",
    "        pairs = np.vstack([pairs, [men[idx], woman_value]])\n",
    "        standardized_women = np.delete(standardized_women, woman_idx)\n",
    "\n",
    "    return pairs[1:]\n",
    "\n",
    "\n",
    "def denormalize_array(array: np.array) -> np.array:\n",
    "    return array * 15 + 100\n",
    "\n",
    "    return array\n",
    "\n",
    "def have_children(parents: np.array) -> np.array:\n",
    "    \"\"\"\n",
    "    For simplicity's sake, assumes all parents have two children, keeping population size constant.\n",
    "    \"\"\"\n",
    "    parent_mean_iq = parents.mean(axis=1).flatten()\n",
    "    parent_normalized = (parent_mean_iq - 100) / 15\n",
    "    correlation_parent_child = 0.40\n",
    "    noise_1 = np.random.normal(loc=0, scale=1, size=parents.shape[0])\n",
    "    noise_2 = np.random.normal(loc=0, scale=1, size=parents.shape[0])\n",
    "    child_1 = (correlation_parent_child * parent_normalized) + (np.sqrt(1 - correlation_parent_child**2) * noise_1)\n",
    "    child_2 = (correlation_parent_child * parent_normalized) + (np.sqrt(1 - correlation_parent_child**2) * noise_2)\n",
    "    normalized_children = np.column_stack((child_1, child_2))\n",
    "    scaled_children = denormalize_array(normalized_children)\n",
    "    return scaled_children\n",
    "\n",
    "\n",
    "def evaluate_percentiles(people_pairs, low_percentile: int = 5, high_percentile: int = 95) -> np.array:\n",
    "    return np.percentile(np.vstack((people_pairs[:, 0], people_pairs[:, 1])), [low_percentile, high_percentile])\n",
    "\n",
    "\n",
    "def simulate_n_generations(n: int, unmarried_parents: np.array) -> np.array:\n",
    "    print(f\"{n} generations remaining.\")\n",
    "    couples = get_married(unmarried_parents)\n",
    "    children = have_children(couples)\n",
    "    if n > 1:\n",
    "        return simulate_n_generations(n-1, children.flatten())\n",
    "    else:\n",
    "        return children"
   ],
   "id": "9ff44694f8ce2af4",
   "outputs": [],
   "execution_count": 209
  },
  {
   "metadata": {},
   "cell_type": "markdown",
   "source": "# Verify on a Single Generation",
   "id": "83781fc172ecc48b"
  },
  {
   "metadata": {
    "ExecuteTime": {
     "end_time": "2024-12-30T11:20:05.726273Z",
     "start_time": "2024-12-30T11:20:03.810277Z"
    }
   },
   "cell_type": "code",
   "source": "couples = get_married(generation_1, 0.4)",
   "id": "1a6d056e6288d706",
   "outputs": [],
   "execution_count": 144
  },
  {
   "metadata": {
    "ExecuteTime": {
     "end_time": "2024-12-30T11:20:05.732416Z",
     "start_time": "2024-12-30T11:20:05.729989Z"
    }
   },
   "cell_type": "code",
   "source": [
    "correlation = np.corrcoef(couples[:, 0], couples[:, 1])[0, 1]\n",
    "correlation"
   ],
   "id": "e1d1023e5b9e7394",
   "outputs": [
    {
     "data": {
      "text/plain": [
       "np.float64(0.3971439216894434)"
      ]
     },
     "execution_count": 145,
     "metadata": {},
     "output_type": "execute_result"
    }
   ],
   "execution_count": 145
  },
  {
   "metadata": {
    "ExecuteTime": {
     "end_time": "2024-12-30T11:20:30.787051Z",
     "start_time": "2024-12-30T11:20:30.779707Z"
    }
   },
   "cell_type": "code",
   "source": "children = have_children(couples)",
   "id": "500ff745bc071576",
   "outputs": [
    {
     "name": "stdout",
     "output_type": "stream",
     "text": [
      "[-0.50717041 -1.27462081 -0.21848656 ...  1.12091456  1.65592223\n",
      "  2.21955546]\n"
     ]
    }
   ],
   "execution_count": 151
  },
  {
   "metadata": {
    "ExecuteTime": {
     "end_time": "2024-12-30T11:20:54.278962Z",
     "start_time": "2024-12-30T11:20:54.272941Z"
    }
   },
   "cell_type": "code",
   "source": "np.corrcoef(children[:, 1], np.mean([couples[:, 0], couples[:, 1]], axis=0))[0,1]",
   "id": "b7f14de747f2f3ae",
   "outputs": [
    {
     "data": {
      "text/plain": [
       "np.float64(0.34143698258354566)"
      ]
     },
     "execution_count": 152,
     "metadata": {},
     "output_type": "execute_result"
    }
   ],
   "execution_count": 152
  },
  {
   "metadata": {
    "ExecuteTime": {
     "end_time": "2024-12-30T11:25:51.721924Z",
     "start_time": "2024-12-30T11:25:51.714701Z"
    }
   },
   "cell_type": "code",
   "source": "evaluate_percentiles(couples)",
   "id": "e26773bd9938cf",
   "outputs": [
    {
     "data": {
      "text/plain": [
       "array([ 75.28144157, 124.6077048 ])"
      ]
     },
     "execution_count": 165,
     "metadata": {},
     "output_type": "execute_result"
    }
   ],
   "execution_count": 165
  },
  {
   "metadata": {
    "ExecuteTime": {
     "end_time": "2024-12-30T11:25:52.309731Z",
     "start_time": "2024-12-30T11:25:52.303558Z"
    }
   },
   "cell_type": "code",
   "source": "evaluate_percentiles(children)",
   "id": "33be9a36979d89d2",
   "outputs": [
    {
     "data": {
      "text/plain": [
       "array([ 76.07526055, 124.13508908])"
      ]
     },
     "execution_count": 166,
     "metadata": {},
     "output_type": "execute_result"
    }
   ],
   "execution_count": 166
  },
  {
   "metadata": {},
   "cell_type": "markdown",
   "source": "# Run Simulation Across Multiple Generations",
   "id": "1615c3833d9bfae5"
  },
  {
   "metadata": {
    "ExecuteTime": {
     "end_time": "2024-12-30T13:42:07.844568Z",
     "start_time": "2024-12-30T13:41:50.141522Z"
    }
   },
   "cell_type": "code",
   "source": [
    "num_generations = 10\n",
    "children = simulate_n_generations(num_generations, generation_1)"
   ],
   "id": "4391b8b09c956297",
   "outputs": [
    {
     "name": "stdout",
     "output_type": "stream",
     "text": [
      "10 generations remaining.\n",
      "9 generations remaining.\n",
      "8 generations remaining.\n",
      "7 generations remaining.\n",
      "6 generations remaining.\n",
      "5 generations remaining.\n",
      "4 generations remaining.\n",
      "3 generations remaining.\n",
      "2 generations remaining.\n",
      "1 generations remaining.\n"
     ]
    }
   ],
   "execution_count": 210
  },
  {
   "metadata": {
    "ExecuteTime": {
     "end_time": "2024-12-30T13:42:07.852402Z",
     "start_time": "2024-12-30T13:42:07.848442Z"
    }
   },
   "cell_type": "code",
   "source": "evaluate_percentiles(children, 1, 99)",
   "id": "bcebf0acf116b9bc",
   "outputs": [
    {
     "data": {
      "text/plain": [
       "array([ 64.99387539, 134.74333516])"
      ]
     },
     "execution_count": 211,
     "metadata": {},
     "output_type": "execute_result"
    }
   ],
   "execution_count": 211
  },
  {
   "metadata": {
    "ExecuteTime": {
     "end_time": "2024-12-30T13:42:07.923340Z",
     "start_time": "2024-12-30T13:42:07.920736Z"
    }
   },
   "cell_type": "code",
   "source": "evaluate_percentiles(couples, 1, 99)",
   "id": "5299b4e68773010c",
   "outputs": [
    {
     "data": {
      "text/plain": [
       "array([ 64.9561008 , 134.93714092])"
      ]
     },
     "execution_count": 212,
     "metadata": {},
     "output_type": "execute_result"
    }
   ],
   "execution_count": 212
  },
  {
   "metadata": {},
   "cell_type": "code",
   "outputs": [],
   "execution_count": null,
   "source": "",
   "id": "ff371cf6c35312bb"
  }
 ],
 "metadata": {
  "kernelspec": {
   "display_name": "Python 3",
   "language": "python",
   "name": "python3"
  },
  "language_info": {
   "codemirror_mode": {
    "name": "ipython",
    "version": 2
   },
   "file_extension": ".py",
   "mimetype": "text/x-python",
   "name": "python",
   "nbconvert_exporter": "python",
   "pygments_lexer": "ipython2",
   "version": "2.7.6"
  }
 },
 "nbformat": 4,
 "nbformat_minor": 5
}
